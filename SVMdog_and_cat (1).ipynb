{
 "cells": [
  {
   "cell_type": "code",
   "execution_count": 16,
   "id": "e3eb1980-15c6-4acf-a049-57d6338c408b",
   "metadata": {},
   "outputs": [],
   "source": [
    "import os\n",
    "import cv2\n",
    "import numpy as np\n",
    "from tqdm import tqdm\n",
    "from sklearn.model_selection import train_test_split\n",
    "from sklearn.svm import SVC\n",
    "from sklearn.metrics import classification_report, accuracy_score\n"
   ]
  },
  {
   "cell_type": "code",
   "execution_count": 18,
   "id": "6ebd3deb-9d77-4c4a-a30b-97c3b06ac279",
   "metadata": {},
   "outputs": [],
   "source": [
    "def load_data_from_folders(base_path, image_size=64, max_images_per_class=None):\n",
    "    X = []\n",
    "    y = []\n",
    "\n",
    "    classes = ['Cat', 'Dog']  # Folder names = class labels\n",
    "\n",
    "    for label, class_name in enumerate(classes):\n",
    "        folder_path = os.path.join(base_path, class_name)\n",
    "        image_files = os.listdir(folder_path)\n",
    "\n",
    "        if max_images_per_class:\n",
    "            image_files = image_files[:max_images_per_class]\n",
    "\n",
    "        for img_name in tqdm(image_files, desc=f\"Loading {class_name} images\"):\n",
    "            img_path = os.path.join(folder_path, img_name)\n",
    "\n",
    "            img = cv2.imread(img_path)\n",
    "            if img is None:\n",
    "                continue  # Skip unreadable/corrupt files\n",
    "\n",
    "            img = cv2.resize(img, (image_size, image_size))\n",
    "            img = cv2.cvtColor(img, cv2.COLOR_BGR2GRAY)\n",
    "            X.append(img.flatten())\n",
    "            y.append(label)  # 0 = Cat, 1 = Dog\n",
    "\n",
    "    return np.array(X), np.array(y)\n"
   ]
  },
  {
   "cell_type": "code",
   "execution_count": 20,
   "id": "51dabe7a-5e23-42f6-8b8d-07cee31713aa",
   "metadata": {},
   "outputs": [
    {
     "name": "stderr",
     "output_type": "stream",
     "text": [
      "Loading Cat images: 100%|██████████████████████████████████████████████████████████| 2000/2000 [00:35<00:00, 55.97it/s]\n",
      "Loading Dog images: 100%|██████████████████████████████████████████████████████████| 2000/2000 [00:35<00:00, 57.07it/s]"
     ]
    },
    {
     "name": "stdout",
     "output_type": "stream",
     "text": [
      "Shape of X: (3987, 4096)\n",
      "Shape of y: (3987,)\n"
     ]
    },
    {
     "name": "stderr",
     "output_type": "stream",
     "text": [
      "\n"
     ]
    }
   ],
   "source": [
    "DATASET_PATH = \".\"  # <-- Change if needed\n",
    "IMAGE_SIZE = 64\n",
    "\n",
    "# Limit images for faster testing (adjust as needed)\n",
    "X, y = load_data_from_folders(DATASET_PATH, image_size=IMAGE_SIZE, max_images_per_class=2000)\n",
    "\n",
    "print(\"Shape of X:\", X.shape)\n",
    "print(\"Shape of y:\", y.shape)\n"
   ]
  },
  {
   "cell_type": "code",
   "execution_count": 22,
   "id": "eeed71f7-0501-4060-8f43-c23ea8bfdaba",
   "metadata": {},
   "outputs": [],
   "source": [
    "X_train, X_test, y_train, y_test = train_test_split(\n",
    "    X, y, test_size=0.2, random_state=42, stratify=y\n",
    ")\n"
   ]
  },
  {
   "cell_type": "code",
   "execution_count": null,
   "id": "4968afee-b2d5-4cf2-a01f-3a7871feca36",
   "metadata": {},
   "outputs": [],
   "source": [
    "model = SVC(kernel='linear')  # Try 'rbf' kernel for non-linear boundaries\n",
    "model.fit(X_train, y_train)\n"
   ]
  },
  {
   "cell_type": "code",
   "execution_count": 12,
   "id": "2437c5e4-bcd5-4aa7-a0d1-188fb0109a9c",
   "metadata": {},
   "outputs": [
    {
     "name": "stdout",
     "output_type": "stream",
     "text": [
      "Accuracy: 0.5238095238095238\n",
      "Formatted Accuracy: 52.38%\n",
      "Classification Report:\n",
      "              precision    recall  f1-score   support\n",
      "\n",
      "         Cat       0.52      0.54      0.53       200\n",
      "         Dog       0.52      0.51      0.52       199\n",
      "\n",
      "    accuracy                           0.52       399\n",
      "   macro avg       0.52      0.52      0.52       399\n",
      "weighted avg       0.52      0.52      0.52       399\n",
      "\n"
     ]
    }
   ],
   "source": [
    "y_pred = model.predict(X_test)\n",
    "\n",
    "from sklearn.metrics import accuracy_score, classification_report\n",
    "\n",
    "acc = accuracy_score(y_test, y_pred)\n",
    "print(\"Accuracy:\", acc)\n",
    "print(\"Formatted Accuracy: {:.2f}%\".format(acc * 100))\n",
    "\n",
    "print(\"Classification Report:\")\n",
    "print(classification_report(y_test, y_pred, target_names=[\"Cat\", \"Dog\"]))\n"
   ]
  },
  {
   "cell_type": "code",
   "execution_count": 14,
   "id": "897bfa09-d0e4-4f7d-a7a2-7010226d012b",
   "metadata": {},
   "outputs": [
    {
     "data": {
      "text/plain": [
       "['svm_cat_dog_model.pkl']"
      ]
     },
     "execution_count": 14,
     "metadata": {},
     "output_type": "execute_result"
    }
   ],
   "source": [
    "import joblib\n",
    "joblib.dump(model, \"svm_cat_dog_model.pkl\")\n"
   ]
  },
  {
   "cell_type": "code",
   "execution_count": null,
   "id": "dd37c17b-7c7b-4292-80a2-01699909aad2",
   "metadata": {},
   "outputs": [],
   "source": []
  }
 ],
 "metadata": {
  "kernelspec": {
   "display_name": "Python 3 (ipykernel)",
   "language": "python",
   "name": "python3"
  },
  "language_info": {
   "codemirror_mode": {
    "name": "ipython",
    "version": 3
   },
   "file_extension": ".py",
   "mimetype": "text/x-python",
   "name": "python",
   "nbconvert_exporter": "python",
   "pygments_lexer": "ipython3",
   "version": "3.12.4"
  }
 },
 "nbformat": 4,
 "nbformat_minor": 5
}
