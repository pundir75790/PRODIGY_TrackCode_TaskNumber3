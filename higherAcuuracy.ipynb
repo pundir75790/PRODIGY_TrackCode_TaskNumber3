{
 "cells": [
  {
   "cell_type": "code",
   "execution_count": 1,
   "id": "40f6f487-a898-4023-a940-fd9be9383310",
   "metadata": {},
   "outputs": [],
   "source": [
    "import os\n",
    "import cv2\n",
    "import numpy as np\n",
    "from tqdm import tqdm\n",
    "from skimage.feature import hog\n",
    "from sklearn.model_selection import train_test_split\n",
    "from sklearn.svm import LinearSVC\n",
    "from sklearn.preprocessing import StandardScaler\n",
    "from sklearn.metrics import accuracy_score, classification_report"
   ]
  },
  {
   "cell_type": "code",
   "execution_count": 3,
   "id": "8b7b49ff-f3f0-42f1-b4d1-7a6fbeac9930",
   "metadata": {},
   "outputs": [],
   "source": [
    "DATASET_PATH = \".\"  # Change this if your path is different\n",
    "IMAGE_SIZE = 128  # Better accuracy with larger images\n",
    "MAX_IMAGES = 1000  # Adjust as per your dataset"
   ]
  },
  {
   "cell_type": "code",
   "execution_count": 5,
   "id": "d68e76da-0c42-4888-84d5-4313377a7d5b",
   "metadata": {},
   "outputs": [],
   "source": [
    "def load_hog_features(base_path, image_size=128, max_images_per_class=1000):\n",
    "    X = []\n",
    "    y = []\n",
    "    classes = [\"Cat\", \"Dog\"]\n",
    "    \n",
    "    for label, class_name in enumerate(classes):\n",
    "        folder_path = os.path.join(base_path, class_name)\n",
    "        image_files = os.listdir(folder_path)[:max_images_per_class]\n",
    "        \n",
    "        print(f\"📥 Loading {class_name} images: \")\n",
    "        for img_name in tqdm(image_files):\n",
    "            img_path = os.path.join(folder_path, img_name)\n",
    "            try:\n",
    "                img = cv2.imread(img_path, cv2.IMREAD_GRAYSCALE)\n",
    "                img = cv2.resize(img, (image_size, image_size))\n",
    "                \n",
    "                # Extract HOG features\n",
    "                features = hog(\n",
    "                    img,\n",
    "                    orientations=9,\n",
    "                    pixels_per_cell=(16, 16),\n",
    "                    cells_per_block=(2, 2),\n",
    "                    block_norm='L2-Hys',\n",
    "                    feature_vector=True\n",
    "                )\n",
    "                X.append(features)\n",
    "                y.append(label)\n",
    "            except Exception as e:\n",
    "                continue\n",
    "    \n",
    "    return np.array(X), np.array(y)\n"
   ]
  },
  {
   "cell_type": "code",
   "execution_count": 7,
   "id": "2621a334-3e66-47cc-bcaf-094fa160a474",
   "metadata": {},
   "outputs": [
    {
     "name": "stdout",
     "output_type": "stream",
     "text": [
      "📥 Loading Cat images: \n"
     ]
    },
    {
     "name": "stderr",
     "output_type": "stream",
     "text": [
      "100%|█████████████████████████████████████████████████████████████████████████████| 1000/1000 [00:09<00:00, 107.16it/s]\n"
     ]
    },
    {
     "name": "stdout",
     "output_type": "stream",
     "text": [
      "📥 Loading Dog images: \n"
     ]
    },
    {
     "name": "stderr",
     "output_type": "stream",
     "text": [
      "100%|█████████████████████████████████████████████████████████████████████████████| 1000/1000 [00:09<00:00, 106.85it/s]\n"
     ]
    },
    {
     "name": "stdout",
     "output_type": "stream",
     "text": [
      "✅ HOG Features shape: (1992, 1764)\n",
      "✅ Labels shape: (1992,)\n"
     ]
    }
   ],
   "source": [
    "X, y = load_hog_features(DATASET_PATH, image_size=IMAGE_SIZE, max_images_per_class=MAX_IMAGES)\n",
    "\n",
    "print(\"✅ HOG Features shape:\", X.shape)\n",
    "print(\"✅ Labels shape:\", y.shape)\n"
   ]
  },
  {
   "cell_type": "code",
   "execution_count": 9,
   "id": "15f43cad-7924-48c1-be61-e79c80de0070",
   "metadata": {},
   "outputs": [],
   "source": [
    "X_train, X_test, y_train, y_test = train_test_split(\n",
    "    X, y, test_size=0.2, random_state=42, stratify=y\n",
    ")\n",
    "\n",
    "# Scale features\n",
    "scaler = StandardScaler()\n",
    "X_train_scaled = scaler.fit_transform(X_train)\n",
    "X_test_scaled = scaler.transform(X_test)\n"
   ]
  },
  {
   "cell_type": "code",
   "execution_count": 11,
   "id": "4a088d82-b2cb-4a31-ad52-ec7f69b35733",
   "metadata": {},
   "outputs": [
    {
     "name": "stdout",
     "output_type": "stream",
     "text": [
      "🧠 Training Linear SVM...\n"
     ]
    },
    {
     "name": "stderr",
     "output_type": "stream",
     "text": [
      "C:\\Users\\AKSHAY KUMAR\\anaconda3\\Lib\\site-packages\\sklearn\\svm\\_classes.py:31: FutureWarning: The default value of `dual` will change from `True` to `'auto'` in 1.5. Set the value of `dual` explicitly to suppress the warning.\n",
      "  warnings.warn(\n"
     ]
    },
    {
     "name": "stdout",
     "output_type": "stream",
     "text": [
      "✅ Training complete!\n"
     ]
    }
   ],
   "source": [
    "model = LinearSVC(C=1.0, max_iter=10000)\n",
    "print(\"🧠 Training Linear SVM...\")\n",
    "model.fit(X_train_scaled, y_train)\n",
    "print(\"✅ Training complete!\")\n"
   ]
  },
  {
   "cell_type": "code",
   "execution_count": 13,
   "id": "c94e7eab-c468-436c-865f-03a6fb2bf478",
   "metadata": {},
   "outputs": [
    {
     "name": "stdout",
     "output_type": "stream",
     "text": [
      "\n",
      "🎯 Accuracy: 64.16%\n",
      "\n",
      "📊 Classification Report:\n",
      "\n",
      "              precision    recall  f1-score   support\n",
      "\n",
      "         Cat       0.64      0.67      0.65       200\n",
      "         Dog       0.65      0.62      0.63       199\n",
      "\n",
      "    accuracy                           0.64       399\n",
      "   macro avg       0.64      0.64      0.64       399\n",
      "weighted avg       0.64      0.64      0.64       399\n",
      "\n"
     ]
    }
   ],
   "source": [
    "y_pred = model.predict(X_test_scaled)\n",
    "\n",
    "acc = accuracy_score(y_test, y_pred)\n",
    "print(f\"\\n🎯 Accuracy: {acc * 100:.2f}%\")\n",
    "\n",
    "print(\"\\n📊 Classification Report:\\n\")\n",
    "print(classification_report(y_test, y_pred, target_names=[\"Cat\", \"Dog\"]))\n"
   ]
  },
  {
   "cell_type": "code",
   "execution_count": null,
   "id": "ffc0fa9c-6fa6-4fbc-9a3c-8c9df8ea91ff",
   "metadata": {},
   "outputs": [],
   "source": []
  }
 ],
 "metadata": {
  "kernelspec": {
   "display_name": "Python 3 (ipykernel)",
   "language": "python",
   "name": "python3"
  },
  "language_info": {
   "codemirror_mode": {
    "name": "ipython",
    "version": 3
   },
   "file_extension": ".py",
   "mimetype": "text/x-python",
   "name": "python",
   "nbconvert_exporter": "python",
   "pygments_lexer": "ipython3",
   "version": "3.12.4"
  }
 },
 "nbformat": 4,
 "nbformat_minor": 5
}
